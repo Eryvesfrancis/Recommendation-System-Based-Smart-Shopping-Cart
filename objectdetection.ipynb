{
 "cells": [
  {
   "cell_type": "code",
   "execution_count": null,
   "metadata": {},
   "outputs": [
    {
     "name": "stderr",
     "output_type": "stream",
     "text": [
      "Using TensorFlow backend.\n"
     ]
    }
   ],
   "source": [
    "from imageai.Detection import ObjectDetection\n",
    "import os"
   ]
  },
  {
   "cell_type": "code",
   "execution_count": 2,
   "metadata": {},
   "outputs": [
    {
     "name": "stdout",
     "output_type": "stream",
     "text": [
      "WARNING:tensorflow:From C:\\Users\\Savoundira Radjou\\Anaconda3\\lib\\site-packages\\tensorflow\\python\\ops\\array_ops.py:1354: add_dispatch_support.<locals>.wrapper (from tensorflow.python.ops.array_ops) is deprecated and will be removed in a future version.\n",
      "Instructions for updating:\n",
      "Use tf.where in 2.0, which has the same broadcast rule as np.where\n",
      "bottle  :  55.60206174850464  :  [283, 75, 493, 478]\n"
     ]
    }
   ],
   "source": [
    "execution_path = os.getcwd()\n",
    "\n",
    "\n",
    "detector = ObjectDetection()\n",
    "detector.setModelTypeAsYOLOv3()\n",
    "detector.setModelPath( os.path.join(execution_path , \"yolo.h5\"))\n",
    "detector.loadModel()\n",
    "detections = detector.detectObjectsFromImage(input_image=os.path.join(execution_path , \"images/img0.png\"), output_image_path=os.path.join(execution_path , \"image2new.jpg\"), minimum_percentage_probability=30)\n",
    "\n",
    "\n",
    "\n",
    "for eachObject in detections:\n",
    "    print(eachObject[\"name\"] , \" : \", eachObject[\"percentage_probability\"], \" : \", eachObject[\"box_points\"] )\n"
   ]
  },
  {
   "cell_type": "code",
   "execution_count": null,
   "metadata": {},
   "outputs": [
    {
     "name": "stdout",
     "output_type": "stream",
     "text": [
      " * Serving Flask app \"__main__\" (lazy loading)\n",
      " * Environment: production\n",
      "   WARNING: This is a development server. Do not use it in a production deployment.\n",
      "   Use a production WSGI server instead.\n",
      " * Debug mode: off\n"
     ]
    },
    {
     "name": "stderr",
     "output_type": "stream",
     "text": [
      " * Running on http://127.0.0.1:5000/ (Press CTRL+C to quit)\n",
      "127.0.0.1 - - [27/Feb/2020 16:08:06] \"\u001b[32mGET / HTTP/1.1\u001b[0m\" 302 -\n"
     ]
    }
   ],
   "source": [
    "from flask import Flask, redirect\n",
    "if eachObject[\"name\"]==\"bowl\":\n",
    "    app = Flask(__name__)\n",
    "    @app.route('/')\n",
    "    def home():\n",
    "        return redirect('https://smartshoppingcartdemo.000webhostapp.com/bowl.php')\n",
    "elif eachObject[\"name\"]==\"cup\":\n",
    "    app = Flask(__name__)\n",
    "    @app.route('/')\n",
    "    def home():\n",
    "        return redirect('https://smartshoppingcartdemo.000webhostapp.com/cup.php')\n",
    "elif eachObject[\"name\"]==\"teddy bear\":\n",
    "    app = Flask(__name__)\n",
    "    @app.route('/')\n",
    "    def home():\n",
    "        return redirect('https://smartshoppingcartdemo.000webhostapp.com/teddybear.php')\n",
    "elif eachObject[\"name\"]==\"scissors\":\n",
    "    app = Flask(__name__)\n",
    "    @app.route('/')\n",
    "    def home():\n",
    "        return redirect('https://smartshoppingcartdemo.000webhostapp.com/scissor.php')\n",
    "elif eachObject[\"name\"]==\"hairdryer\":\n",
    "    app = Flask(__name__)\n",
    "    @app.route('/')\n",
    "    def home():\n",
    "        return redirect('https://smartshoppingcartdemo.000webhostapp.com/hairdryer.php')\n",
    "elif eachObject[\"name\"]==\"bottle\":\n",
    "    app = Flask(__name__)\n",
    "    @app.route('/')\n",
    "    def home():\n",
    "        return redirect('https://smartshoppingcartdemo.000webhostapp.com/bottle.php')\n",
    "elif eachObject[\"name\"]==\"handbag\":\n",
    "    app = Flask(__name__)\n",
    "    @app.route('/')\n",
    "    def home():\n",
    "        return redirect('https://smartshoppingcartdemo.000webhostapp.com/handbag.php')\n",
    "elif eachObject[\"name\"]==\"hairdryer\":\n",
    "    app = Flask(__name__)\n",
    "    @app.route('/')\n",
    "    def home():\n",
    "        return redirect('https://smartshoppingcartdemo.000webhostapp.com/hairdryer.php')\n",
    "elif eachObject[\"name\"]==\"toothbrush\":\n",
    "    app = Flask(__name__)\n",
    "    @app.route('/')\n",
    "    def home():\n",
    "        return redirect('https://smartshoppingcartdemo.000webhostapp.com/toothbrush.php')\n",
    "elif eachObject[\"name\"]==\"clock\":\n",
    "    app = Flask(__name__)\n",
    "    @app.route('/')\n",
    "    def home():\n",
    "        return redirect('https://smartshoppingcartdemo.000webhostapp.com/clock.php')\n",
    "elif eachObject[\"name\"]==\"backpack\":\n",
    "    app = Flask(__name__)\n",
    "    @app.route('/')\n",
    "    def home():\n",
    "        return redirect('https://smartshoppingcartdemo.000webhostapp.com/backpack.php')\n",
    "\n",
    "if __name__ == '__main__':\n",
    "    app.run()\n"
   ]
  },
  {
   "cell_type": "code",
   "execution_count": null,
   "metadata": {},
   "outputs": [],
   "source": []
  }
 ],
 "metadata": {
  "kernelspec": {
   "display_name": "Python 3",
   "language": "python",
   "name": "python3"
  },
  "language_info": {
   "codemirror_mode": {
    "name": "ipython",
    "version": 3
   },
   "file_extension": ".py",
   "mimetype": "text/x-python",
   "name": "python",
   "nbconvert_exporter": "python",
   "pygments_lexer": "ipython3",
   "version": "3.7.3"
  }
 },
 "nbformat": 4,
 "nbformat_minor": 2
}
